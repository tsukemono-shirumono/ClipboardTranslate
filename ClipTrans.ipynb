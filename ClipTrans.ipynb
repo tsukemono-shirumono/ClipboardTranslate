{
 "cells": [
  {
   "cell_type": "code",
   "execution_count": 1,
   "metadata": {},
   "outputs": [],
   "source": [
    "import pyperclip\n",
    "import time\n",
    "from selenium import webdriver\n",
    "import urllib.parse\n",
    "import re"
   ]
  },
  {
   "cell_type": "code",
   "execution_count": 2,
   "metadata": {},
   "outputs": [],
   "source": [
    "def ChangeTxt(text):\n",
    "    text=(\n",
    "        text\n",
    "        .replace(\"\\r\",\"\")\n",
    "        .replace(\" -\\n\",\"\")\n",
    "        .replace(\"-\\n\",\"\")\n",
    "        .replace(\"\\n\",\" \")\n",
    "        .replace(\"|\",\"｜\")\n",
    "        .replace(\" ̃\",\"\")\n",
    "        .replace(\"/\",\"／\")\n",
    "        .replace(\"] .\",\"].\")\n",
    "    )\n",
    "    text=re.sub(r\"\\[[0-9\\, ]*\\]\",\"\",text) #引用\n",
    "    text=(\n",
    "        text\n",
    "        .replace(\"   \",\" \")\n",
    "        .replace(\"  \",\" \")\n",
    "        .replace(\"w.r.t. \",\"w.r.t.\")\n",
    "        .replace(\" Fig. \",\" Fig.\")\n",
    "        .replace(\" fig. \",\" fig.\")\n",
    "        .replace(\"et. al\",\"et.al\")\n",
    "        .replace(\"et.al. \",\"et.al.\")\n",
    "        .replace(\"et al. \",\"et.al.\")\n",
    "        .replace(\"i.e. \",\"i.e.\")\n",
    "        .replace(\"e.g. \",\"e.g.\")\n",
    "        .replace(\". \",\".\\n\\n\")\n",
    "        .replace(\"; \",\";\\n\\n\")\n",
    "        .replace(\"𝑘\",\"k\")\n",
    "        .replace(\"𝑘\",\"k\")\n",
    "        .replace(\"𝑤\",\"w\")\n",
    "        .replace(\"𝑙\",\"l\")\n",
    "        .replace(\"𝑢\",\"u\")\n",
    "        .replace(\"𝑧\",\"z\")\n",
    "        .replace(\"𝐾\",\"K\")\n",
    "        .replace(\"\",\"fi\")\n",
    "        .replace(\"\",\"th\")\n",
    "    )\n",
    "    return text"
   ]
  },
  {
   "cell_type": "code",
   "execution_count": 3,
   "metadata": {},
   "outputs": [],
   "source": [
    "cliptext=\"\"\n",
    "browser = webdriver.Firefox()\n",
    "while True:\n",
    "    time.sleep(0.2)\n",
    "    tmp=pyperclip.paste()\n",
    "    if tmp!=cliptext:\n",
    "        cliptext=tmp\n",
    "        text=ChangeTxt(cliptext)\n",
    "        text=urllib.parse.quote(text)\n",
    "        browser.get(r\"https://www.deepl.com/ja/translator#en/ja/\"+text)"
   ]
  }
 ],
 "metadata": {
  "accelerator": "TPU",
  "colab": {
   "collapsed_sections": [],
   "name": "SetTag.ipynb",
   "provenance": []
  },
  "kernelspec": {
   "display_name": "Python 3.8.10 ('base')",
   "language": "python",
   "name": "python3"
  },
  "language_info": {
   "codemirror_mode": {
    "name": "ipython",
    "version": 3
   },
   "file_extension": ".py",
   "mimetype": "text/x-python",
   "name": "python",
   "nbconvert_exporter": "python",
   "pygments_lexer": "ipython3",
   "version": "3.8.10"
  },
  "vscode": {
   "interpreter": {
    "hash": "3e68947527fda1570d5c1e926765d5049af7cd4532a4a9872375089c0339d016"
   }
  }
 },
 "nbformat": 4,
 "nbformat_minor": 4
}
