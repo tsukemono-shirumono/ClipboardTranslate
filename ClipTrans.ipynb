{
 "cells": [
  {
   "cell_type": "code",
   "execution_count": 4,
   "metadata": {},
   "outputs": [],
   "source": [
    "import pyperclip\n",
    "import time\n",
    "from selenium import webdriver\n",
    "import urllib.parse\n",
    "import re"
   ]
  },
  {
   "cell_type": "code",
   "execution_count": 7,
   "metadata": {},
   "outputs": [],
   "source": [
    "def ChangeTxt(text):\n",
    "    text=(\n",
    "        text\n",
    "        .replace(\"\\r\",\"\")\n",
    "        .replace(\" -\\n\",\"\")\n",
    "        .replace(\"-\\n\",\"\")\n",
    "        .replace(\"\\n\",\" \")\n",
    "        .replace(\"|\",\"｜\")\n",
    "        .replace(\" ̃\",\"\")\n",
    "        .replace(\"/\",\"／\")\n",
    "        .replace(\"] .\",\"].\")\n",
    "    )\n",
    "    text=re.sub(r\"\\[[0-9\\, ]*\\]\",\"\",text) #引用\n",
    "    text=(\n",
    "        text\n",
    "        .replace(\"   \",\" \")\n",
    "        .replace(\"  \",\" \")\n",
    "        .replace(\"w.r.t. \",\"w.r.t.\")\n",
    "        .replace(\" Fig. \",\" Fig.\")\n",
    "        .replace(\" fig. \",\" fig.\")\n",
    "        .replace(\"et. al\",\"et.al\")\n",
    "        .replace(\"et.al. \",\"et.al.\")\n",
    "        .replace(\"et al. \",\"et.al.\")\n",
    "        .replace(\"etc. \",\"etc.\")\n",
    "        .replace(\"i.e. \",\"i.e.\")\n",
    "        .replace(\"e.g. \",\"e.g.\")\n",
    "        .replace(\". \",\".\\n\\n\")\n",
    "        .replace(\"; \",\";\\n\\n\")\n",
    "        .replace(\"𝑘\",\"k\")\n",
    "        .replace(\"𝑘\",\"k\")\n",
    "        .replace(\"𝑤\",\"w\")\n",
    "        .replace(\"𝑙\",\"l\")\n",
    "        .replace(\"𝑢\",\"u\")\n",
    "        .replace(\"𝑧\",\"z\")\n",
    "        .replace(\"𝐾\",\"K\")\n",
    "        .replace(\"\",\"fi\")\n",
    "        .replace(\"\",\"th\")\n",
    "    )\n",
    "    return text"
   ]
  },
  {
   "cell_type": "code",
   "execution_count": 8,
   "metadata": {},
   "outputs": [
    {
     "ename": "KeyboardInterrupt",
     "evalue": "",
     "output_type": "error",
     "traceback": [
      "\u001b[1;31m---------------------------------------------------------------------------\u001b[0m",
      "\u001b[1;31mKeyboardInterrupt\u001b[0m                         Traceback (most recent call last)",
      "\u001b[1;32m<ipython-input-8-fabcbcfa75a8>\u001b[0m in \u001b[0;36m<module>\u001b[1;34m\u001b[0m\n\u001b[0;32m      2\u001b[0m \u001b[0mbrowser\u001b[0m \u001b[1;33m=\u001b[0m \u001b[0mwebdriver\u001b[0m\u001b[1;33m.\u001b[0m\u001b[0mFirefox\u001b[0m\u001b[1;33m(\u001b[0m\u001b[1;33m)\u001b[0m\u001b[1;33m\u001b[0m\u001b[1;33m\u001b[0m\u001b[0m\n\u001b[0;32m      3\u001b[0m \u001b[1;32mwhile\u001b[0m \u001b[1;32mTrue\u001b[0m\u001b[1;33m:\u001b[0m\u001b[1;33m\u001b[0m\u001b[1;33m\u001b[0m\u001b[0m\n\u001b[1;32m----> 4\u001b[1;33m     \u001b[0mtime\u001b[0m\u001b[1;33m.\u001b[0m\u001b[0msleep\u001b[0m\u001b[1;33m(\u001b[0m\u001b[1;36m0.2\u001b[0m\u001b[1;33m)\u001b[0m\u001b[1;33m\u001b[0m\u001b[1;33m\u001b[0m\u001b[0m\n\u001b[0m\u001b[0;32m      5\u001b[0m     \u001b[0mtmp\u001b[0m\u001b[1;33m=\u001b[0m\u001b[0mpyperclip\u001b[0m\u001b[1;33m.\u001b[0m\u001b[0mpaste\u001b[0m\u001b[1;33m(\u001b[0m\u001b[1;33m)\u001b[0m\u001b[1;33m\u001b[0m\u001b[1;33m\u001b[0m\u001b[0m\n\u001b[0;32m      6\u001b[0m     \u001b[1;32mif\u001b[0m \u001b[0mtmp\u001b[0m\u001b[1;33m!=\u001b[0m\u001b[0mcliptext\u001b[0m\u001b[1;33m:\u001b[0m\u001b[1;33m\u001b[0m\u001b[1;33m\u001b[0m\u001b[0m\n",
      "\u001b[1;31mKeyboardInterrupt\u001b[0m: "
     ]
    }
   ],
   "source": [
    "cliptext=\"\"\n",
    "browser = webdriver.Firefox()\n",
    "while True:\n",
    "    time.sleep(0.2)\n",
    "    tmp=pyperclip.paste()\n",
    "    if tmp!=cliptext:\n",
    "        cliptext=tmp\n",
    "        text=ChangeTxt(cliptext)\n",
    "        text=urllib.parse.quote(text)\n",
    "        browser.get(r\"https://www.deepl.com/ja/translator#en/ja/\"+text)"
   ]
  }
 ],
 "metadata": {
  "accelerator": "TPU",
  "colab": {
   "collapsed_sections": [],
   "name": "SetTag.ipynb",
   "provenance": []
  },
  "kernelspec": {
   "display_name": "Python 3.8.10 ('base')",
   "language": "python",
   "name": "python3"
  },
  "language_info": {
   "codemirror_mode": {
    "name": "ipython",
    "version": 3
   },
   "file_extension": ".py",
   "mimetype": "text/x-python",
   "name": "python",
   "nbconvert_exporter": "python",
   "pygments_lexer": "ipython3",
   "version": "3.8.10"
  },
  "vscode": {
   "interpreter": {
    "hash": "3e68947527fda1570d5c1e926765d5049af7cd4532a4a9872375089c0339d016"
   }
  }
 },
 "nbformat": 4,
 "nbformat_minor": 4
}
